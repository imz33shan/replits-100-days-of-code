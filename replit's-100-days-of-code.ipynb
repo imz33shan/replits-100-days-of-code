{
 "cells": [
  {
   "cell_type": "markdown",
   "metadata": {},
   "source": [
    "#### Day 1"
   ]
  },
  {
   "cell_type": "code",
   "execution_count": 3,
   "metadata": {},
   "outputs": [
    {
     "name": "stdout",
     "output_type": "stream",
     "text": [
      "Hello VSCode\n",
      "Hello \n",
      "    Zeeshan\n",
      "        Atta\n"
     ]
    }
   ],
   "source": [
    "print(\"Hello VSCode\")\n",
    "print(\"\"\"Hello \n",
    "    Zeeshan\n",
    "        Atta\"\"\")"
   ]
  },
  {
   "cell_type": "markdown",
   "metadata": {},
   "source": [
    "#### Day 2"
   ]
  },
  {
   "cell_type": "code",
   "execution_count": 5,
   "metadata": {},
   "outputs": [
    {
     "data": {
      "text/plain": [
       "'123'"
      ]
     },
     "execution_count": 5,
     "metadata": {},
     "output_type": "execute_result"
    }
   ],
   "source": [
    "input(\"What's your name?: \")"
   ]
  },
  {
   "cell_type": "code",
   "execution_count": 6,
   "metadata": {},
   "outputs": [
    {
     "name": "stdout",
     "output_type": "stream",
     "text": [
      "Gee, that's REALLY OLD\n",
      "OF COURSE YOU DO!\n"
     ]
    }
   ],
   "source": [
    "myName = input(\"What's you name?: \")\n",
    "myAge = input(\"How old are you? :\")\n",
    "print(\"Gee, that's REALLY OLD\")\n",
    "replit = input(\"Do you like Replit?\")\n",
    "print(\"OF COURSE YOU DO!\")"
   ]
  },
  {
   "cell_type": "code",
   "execution_count": 7,
   "metadata": {},
   "outputs": [
    {
     "name": "stdout",
     "output_type": "stream",
     "text": [
      "\n",
      "So, you are\n",
      "Zeeshan\n",
      "and are the ripe old age of\n",
      "27\n",
      "and clearly think that Replit is\n",
      "Yes\n"
     ]
    }
   ],
   "source": [
    "print()\n",
    "print(\"So, you are\")\n",
    "print(myName)\n",
    "print(\"and are the ripe old age of\")\n",
    "print(myAge)\n",
    "print(\"and clearly think that Replit is\")\n",
    "print(replit)"
   ]
  },
  {
   "cell_type": "code",
   "execution_count": 9,
   "metadata": {},
   "outputs": [
    {
     "name": "stdout",
     "output_type": "stream",
     "text": [
      "Hmm, it sounds like you really should just order\n",
      "Biryani\n",
      "as soon as possible!\n"
     ]
    }
   ],
   "source": [
    "myLunch = input(\"What are you having for lunch? \")\n",
    "print(\"Hmm, it sounds like you really should just order\")\n",
    "print(myLunch)\n",
    "print(\"as soon as possible!\")"
   ]
  },
  {
   "cell_type": "code",
   "execution_count": 11,
   "metadata": {},
   "outputs": [
    {
     "name": "stdout",
     "output_type": "stream",
     "text": [
      "Definitely not a Phishing Scam\n",
      "\n",
      "Thanks for logging in\n",
      "Zeeshan\n",
      "Thanks, I definitely wont put\n",
      "1234567890\n",
      "into Amazon and order anything weird\n",
      "\n",
      "Promise\n",
      "\n",
      "That's cool, I just wanted to know that\n",
      "Fatima\n",
      "was your Mum's maiden name. Not because the bank requested it or anything, honest.\n"
     ]
    }
   ],
   "source": [
    "print(\"Definitely not a Phishing Scam\")\n",
    "print()\n",
    "myName = input(\"Your Name\")\n",
    "print(\"Thanks for logging in\")\n",
    "print(myName)\n",
    "cardNumber = input(\"What is your credit card number?\")\n",
    "print(\"Thanks, I definitely wont put\")\n",
    "print(cardNumber)\n",
    "print(\"into Amazon and order anything weird\")\n",
    "print()\n",
    "print(\"Promise\")\n",
    "maidenName = input(\"What is your Mother's maiden name? \")\n",
    "print()\n",
    "print(\"That's cool, I just wanted to know that\")\n",
    "print(maidenName)\n",
    "print(\"was your Mum's maiden name. Not because the bank requested it or anything, honest.\")"
   ]
  },
  {
   "cell_type": "markdown",
   "metadata": {},
   "source": [
    "#### Day 3"
   ]
  },
  {
   "cell_type": "code",
   "execution_count": 2,
   "metadata": {},
   "outputs": [
    {
     "name": "stdout",
     "output_type": "stream",
     "text": [
      "Zeeshan is going to be chowing down on Biryani very soon!\n"
     ]
    }
   ],
   "source": [
    "myName = input(\"What's your name? \")\n",
    "myLunch = input(\"What are you having for lunch? \")\n",
    "print(myName, \"is going to be chowing down on\", myLunch, \"very soon!\")"
   ]
  },
  {
   "cell_type": "code",
   "execution_count": 3,
   "metadata": {},
   "outputs": [
    {
     "name": "stdout",
     "output_type": "stream",
     "text": [
      "No I don't think that 8 is a Roses of Aw . That's just odd.\n"
     ]
    }
   ],
   "source": [
    "number = input(\"Give me a number: \")\n",
    "group = input(\"Give me a collective noun for a group of things: \")\n",
    "thing = input(\"Give me the name of a weird or wacky thing: \")\n",
    "print(\"No I don't think that\", number, \"is a\", group, \"of\", thing,\". That's just odd.\")"
   ]
  },
  {
   "cell_type": "code",
   "execution_count": 5,
   "metadata": {},
   "outputs": [
    {
     "name": "stdout",
     "output_type": "stream",
     "text": [
      "Zeeshan thinks it is 2024\n"
     ]
    }
   ],
   "source": [
    "yourName = input(\"Name: \")\n",
    "whatYear = input(\"What year is it?: \")\n",
    "print(yourName, \"thinks it is\", whatYear)"
   ]
  },
  {
   "cell_type": "code",
   "execution_count": 7,
   "metadata": {},
   "outputs": [
    {
     "name": "stdout",
     "output_type": "stream",
     "text": [
      "=== Your Song Generator ===\n",
      "You'll be asked a bunch of questions\n",
      "then we'll make you up an amazing\n",
      "song, totally copyright free 😭\n",
      "\n"
     ]
    },
    {
     "name": "stdout",
     "output_type": "stream",
     "text": [
      "\n",
      "There was a person called Zeeshan\n",
      "Who did something cool like Biryani at the wonderful Lahore where you'll find me Ok\n"
     ]
    }
   ],
   "source": [
    "print(\"=== Your Song Generator ===\")\n",
    "print(\"\"\"You'll be asked a bunch of questions\n",
    "then we'll make you up an amazing\n",
    "song, totally copyright free 😭\"\"\")\n",
    "print()\n",
    "person = input(\"Name a person famous for something good: \")\n",
    "thing = input(\"Name a thing they did: \")\n",
    "place = input(\"Name a place you like: \")\n",
    "rhyme = input(\"Give me a verb that rhymes with your person's name: \")\n",
    "print()\n",
    "print(\"There was a person called\", person)\n",
    "print(\"Who did something cool like\", thing, \"at the wonderful\", place, \"where you'll find me\", rhyme)"
   ]
  },
  {
   "cell_type": "markdown",
   "metadata": {},
   "source": [
    "#### Day 4"
   ]
  },
  {
   "cell_type": "markdown",
   "metadata": {},
   "source": [
    "Color    Value\n",
    "Default\t 0\n",
    "Black\t 30\n",
    "Red\t     31\n",
    "Green\t 32\n",
    "Yellow\t 33\n",
    "Blue\t 34\n",
    "Purple\t 35\n",
    "Cyan\t 36\n",
    "White\t 37"
   ]
  },
  {
   "cell_type": "code",
   "execution_count": 1,
   "metadata": {},
   "outputs": [
    {
     "name": "stdout",
     "output_type": "stream",
     "text": [
      "Uh, oh, you've been given a \u001b[31m warning \u001b[0m for being a bad, bad person.\n"
     ]
    }
   ],
   "source": [
    "print(\"Uh, oh, you've been given a\", \"\\033[31m\", \"warning\", \"\\033[0m\", \"for being a bad, bad person.\")"
   ]
  },
  {
   "cell_type": "code",
   "execution_count": 3,
   "metadata": {},
   "outputs": [
    {
     "name": "stdout",
     "output_type": "stream",
     "text": [
      "Welcome to your Adventure Story Simulator.\n",
      "\n",
      "I am going to ask you a bunch of questions and then create an epic story with you as the star.\n",
      "\n",
      "\n",
      "\n",
      "\n",
      "\n",
      "\n",
      "Hello Zeeshan Your ability to Eating will make sure you never have to look at Aalu again.Go eat Biryani as you walk down the streets of Home and use Eating for good and not evil!\n"
     ]
    }
   ],
   "source": [
    "print(\"Welcome to your Adventure Story Simulator.\")\n",
    "print ()\n",
    "print(\"I am going to ask you a bunch of questions and then create an epic story with you as the star.\")\n",
    "\n",
    "print()\n",
    "name = input(\"What is your name? \")\n",
    "print()\n",
    "enemyName = input(\"What is your enemy's name? \")\n",
    "print()\n",
    "superPower = input(\"What is your super power? \")\n",
    "print()\n",
    "live = input(\"Where do you live?\")\n",
    "print()\n",
    "food = input(\"What is your favorite food?\")\n",
    "\n",
    "print()\n",
    "print(\"Hello\", name, \"Your ability to\", superPower, \"will make sure you never have to look at\", enemyName, \"again.\" \"Go eat\", food, \"as you walk down the streets of\", live, \"and use\", superPower, \"for good and not evil!\")"
   ]
  },
  {
   "cell_type": "markdown",
   "metadata": {},
   "source": [
    "#### Day 5"
   ]
  },
  {
   "cell_type": "code",
   "execution_count": 1,
   "metadata": {},
   "outputs": [
    {
     "name": "stdout",
     "output_type": "stream",
     "text": [
      "Welcome Dude!\n",
      "You're just the baldest dude I've ever seen\n"
     ]
    }
   ],
   "source": [
    "myName = input(\"What's your name?: \")\n",
    "if myName == \"David\":\n",
    "    print(\"Welcome Dude!\")\n",
    "    print(\"You're just the baldest dude I've ever seen\")\n",
    "else:\n",
    "    print(\"Who on earth are you?!\")"
   ]
  },
  {
   "cell_type": "code",
   "execution_count": 4,
   "metadata": {},
   "outputs": [
    {
     "name": "stdout",
     "output_type": "stream",
     "text": [
      "Which character are you from 'Avengers?'\n",
      "\n",
      "Answer these questions and let's find out.\n",
      "\n",
      "Please use Y or N for yes and no.\n",
      "I guess you are not like anyone from 'Avengers.'\n"
     ]
    }
   ],
   "source": [
    "print(\"Which character are you from 'Avengers?'\")\n",
    "print()\n",
    "print(\"Answer these questions and let's find out.\")\n",
    "print()\n",
    "print(\"Please use Y or N for yes and no.\")\n",
    "\n",
    "likeGreen = input(\"Do you like the color green?: \")\n",
    "if likeGreen == \"Y\":\n",
    "  print(\"You must be the Hulk!\")\n",
    "\n",
    "IronIsCool = input(\"Do you think building robots is cool?: \")  \n",
    "if IronIsCool == \"Y\":\n",
    "  print(\"You must be Iron Man. Cool suit!\")\n",
    "\n",
    "TimeTravel = input(\"Do you like traveling through time?: \")  \n",
    "if TimeTravel == \"Y\":\n",
    "  print(\"You must be Captain America!\")\n",
    "\n",
    "Strong = input(\"Are you super strong?: \")\n",
    "if Strong == \"Y\":\n",
    "  print(\"You have got to be Thor!\")\n",
    "else:\n",
    "  print(\"I guess you are not like anyone from 'Avengers.'\")"
   ]
  },
  {
   "cell_type": "markdown",
   "metadata": {},
   "source": [
    "#### Day 6"
   ]
  },
  {
   "cell_type": "code",
   "execution_count": 7,
   "metadata": {},
   "outputs": [
    {
     "name": "stdout",
     "output_type": "stream",
     "text": [
      "SECURE LOGIN\n",
      "Welcome Mark!\n"
     ]
    }
   ],
   "source": [
    "print(\"SECURE LOGIN\")\n",
    "username = input(\"Username > \")\n",
    "password = input(\"Password> \")\n",
    "\n",
    "if username == \"mark\" and password == \"password\":\n",
    "    print(\"Welcome Mark!\")\n",
    "elif username == \"suzanne\" and password == \"Su74nne\":\n",
    "    print(\"Hey there Suzanne!\")\n",
    "else:\n",
    "    print(\"Go away!\")"
   ]
  },
  {
   "cell_type": "code",
   "execution_count": 8,
   "metadata": {},
   "outputs": [
    {
     "name": "stdout",
     "output_type": "stream",
     "text": [
      "Secure Login\n",
      "You do not have access. Go away!\n"
     ]
    }
   ],
   "source": [
    "\n",
    "print(\"Secure Login\")\n",
    "username = input(\"What is your username?\")\n",
    "password = input(\"What is your password?\")\n",
    "\n",
    "if username == \"David\" and password == \"PyTh0nR*cks\":\n",
    "  print(\"Welcome, David! You are looking nice today!\")\n",
    "elif username == \"Becky\" and password == \"Repl!t4evEr\":\n",
    "  print(\"Hi Becky! Love your hair today!\")\n",
    "elif username == \"Bill\" and password == \"SmashTHEb*gs!\":\n",
    "  print(\"Yo! Bill! What up?!\")\n",
    "else:\n",
    "  print(\"You do not have access. Go away!\")"
   ]
  },
  {
   "cell_type": "markdown",
   "metadata": {},
   "source": [
    "#### Day 7"
   ]
  },
  {
   "cell_type": "code",
   "execution_count": 1,
   "metadata": {},
   "outputs": [
    {
     "name": "stdout",
     "output_type": "stream",
     "text": [
      "Ugh, why?\n",
      "Right answer\n"
     ]
    }
   ],
   "source": [
    "tvShow = input(\"What is your favorite tv show? \")\n",
    "if tvShow == \"peppa pig\":\n",
    "  print(\"Ugh, why?\")\n",
    "  faveCharacter = input(\"Who is your favorite character? \")\n",
    "  if faveCharacter == \"daddy pig\":\n",
    "    print(\"Right answer\")\n",
    "  else:\n",
    "    print(\"Nah, Daddy Pig's the greatest\")\n",
    "elif tvShow == \"paw patrol\":\n",
    "  print(\"Aww, sad times\")\n",
    "else:\n",
    "  print(\"Yeah, that's cool and all…\")"
   ]
  },
  {
   "cell_type": "code",
   "execution_count": 3,
   "metadata": {},
   "outputs": [
    {
     "name": "stdout",
     "output_type": "stream",
     "text": [
      "Are you a superfan of 'The Big Bang Theory' or a fake fan?\n",
      "\n",
      "Answer these questions to find out.\n",
      "Wrong!\n",
      "Try again!\n"
     ]
    }
   ],
   "source": [
    "print (\"Are you a superfan of 'The Big Bang Theory' or a fake fan?\")\n",
    "print()\n",
    "print(\"Answer these questions to find out.\")\n",
    "\n",
    "Glasses = input(\"Does someone wear glasses?\")\n",
    "if Glasses == \"yes\":\n",
    "  print(\"Correct!\")\n",
    "else:\n",
    "  print(\"Wrong!\")\n",
    "  WhoGlasses = input(\"And who wears glasses?\")\n",
    "  if WhoGlasses == \"Leonard\":\n",
    "    print(\"You got it\")\n",
    "  else:\n",
    "    print(\"Try again!\")"
   ]
  },
  {
   "cell_type": "markdown",
   "metadata": {},
   "source": [
    "#### Day 8"
   ]
  },
  {
   "cell_type": "code",
   "execution_count": null,
   "metadata": {},
   "outputs": [],
   "source": [
    "print(\"Hello. Welcome to your daily affirmation generator.\")\n",
    "name = input(\"What is your name?\")\n",
    "\n",
    "\n",
    "\n",
    "if name ==\"Mark\" or name == \"mark\":\n",
    " DOW = input(\"What is the day of the week?\")\n",
    " if DOW == \"monday\" or DOW == \"Monday\":\n",
    "   print(\"It is going to be a great Monday\", name)\n",
    " if DOW == \"tuesday\" or DOW == \"Tuesday\":\n",
    "   print(\"What a wonderful Tuesday it is\", name)\n",
    " if DOW == \"wednesday\" or DOW == \"Wednesday\":\n",
    "   print(\"Happy Hump Day\", name)\n",
    " if DOW == \"thursday\" or DOW == \"Thursday\":\n",
    "   print(name,\"your week is almost over!\")\n",
    " if DOW == \"friday\" or DOW == \"Friday\":\n",
    "   print(name, \"It's FRIDAY!\")\n",
    "\n",
    "elif name == \"David\" or name== \"david\":\n",
    " DOW = input(\"What is the day of the week?\")\n",
    " if DOW == \"monday\" or DOW == \"Monday\":\n",
    "   print(\"It is going to be a great Monday\", name)\n",
    " if DOW == \"tuesday\" or DOW == \"Tuesday\":\n",
    "   print(\"You look great in that color\", name)\n",
    " if DOW == \"wednesday\" or DOW == \"Wednesday\":\n",
    "   print(\"You look chipper today\", name)\n",
    " if DOW == \"thursday\" or DOW == \"Thursday\":\n",
    "   print(name,\"you are doing a great job!\")\n",
    " if DOW == \"friday\" or DOW == \"Friday\":\n",
    "   print(name, \"it's FRIDAY!\")\n",
    "else:\n",
    " print(\"I do not know your name, but I hope you are having a great day!\")"
   ]
  },
  {
   "cell_type": "markdown",
   "metadata": {},
   "source": [
    "#### Day 9"
   ]
  },
  {
   "cell_type": "code",
   "execution_count": 1,
   "metadata": {},
   "outputs": [
    {
     "name": "stdout",
     "output_type": "stream",
     "text": [
      "Hey, Gen Z! TikTok much?\n"
     ]
    }
   ],
   "source": [
    "birthYear = int(input(\"What year were you born?\"))\n",
    "if birthYear <= 1946:\n",
    "  print(\"You are a Traditionalist.\")\n",
    "elif birthYear >= 1947 and birthYear <= 1964:\n",
    "  print(\"Hey, Baby Boomer! How you doing?\")\n",
    "elif birthYear >= 1965 and birthYear <= 1981:\n",
    "  print(\"Gen X! What's up?\")\n",
    "elif birthYear >= 1982 and birthYear <= 1995:\n",
    "  print(\"Millenials! The age of tech!\")\n",
    "elif birthYear >= 1996:\n",
    "  print(\"Hey, Gen Z! TikTok much?\")\n",
    "else: \n",
    "  print(\"Try again!\")"
   ]
  },
  {
   "cell_type": "markdown",
   "metadata": {},
   "source": [
    "#### Day 10"
   ]
  },
  {
   "cell_type": "code",
   "execution_count": 1,
   "metadata": {},
   "outputs": [
    {
     "name": "stdout",
     "output_type": "stream",
     "text": [
      "7\n",
      "-1\n",
      "128\n",
      "10.0\n",
      "25\n",
      "3\n",
      "7\n"
     ]
    }
   ],
   "source": [
    "adding = 4 + 3\n",
    "print(adding)\n",
    "\n",
    "subtraction = 8 - 9\n",
    "print(subtraction)\n",
    "\n",
    "multiplication = 4 * 32\n",
    "print(multiplication)\n",
    "\n",
    "division = 50 / 5\n",
    "print(division)\n",
    "\n",
    "# a number raised to the power of some number\n",
    "# in this example we raise 5 to the power of 2\n",
    "squared = 5**2\n",
    "print(squared)\n",
    "\n",
    "# remainder of a division\n",
    "modulo = 15 % 4\n",
    "print(modulo)\n",
    "\n",
    "# whole number division\n",
    "divisor = 15 // 2\n",
    "print(divisor)"
   ]
  },
  {
   "cell_type": "code",
   "execution_count": 4,
   "metadata": {},
   "outputs": [
    {
     "name": "stdout",
     "output_type": "stream",
     "text": [
      "You all owe 287.5\n"
     ]
    }
   ],
   "source": [
    "myBill = float(input(\"What was the bill?: \"))\n",
    "numberOfPeople = int(input(\"How many people?: \"))\n",
    "tip = int(input(\"What percent tip do you want to leave: 15, 18, or 20 percent?\"))\n",
    "\n",
    "\n",
    "bill_with_tip = tip / 100 * myBill + myBill\n",
    "bill_per_person = bill_with_tip / numberOfPeople\n",
    "final_amount = round(bill_per_person, 2)\n",
    "\n",
    "\n",
    "print(\"You all owe\", final_amount)"
   ]
  },
  {
   "cell_type": "markdown",
   "metadata": {},
   "source": [
    "#### Day 11"
   ]
  },
  {
   "cell_type": "code",
   "execution_count": 9,
   "metadata": {},
   "outputs": [
    {
     "name": "stdout",
     "output_type": "stream",
     "text": [
      "There are 31622400 seconds in year 2024\n"
     ]
    }
   ],
   "source": [
    "year = int(input(\"Enter the year: \"))\n",
    "\n",
    "if year % 4 == 0: # For Leap Years\n",
    "    seconds = 366 * 24 * 60 * 60\n",
    "else:\n",
    "    seconds = 366 * 24 * 60 * 60\n",
    "\n",
    "print(f'There are {seconds} seconds in year {year}')"
   ]
  },
  {
   "cell_type": "markdown",
   "metadata": {},
   "source": [
    "#### Day 12"
   ]
  },
  {
   "cell_type": "code",
   "execution_count": 4,
   "metadata": {},
   "outputs": [
    {
     "name": "stdout",
     "output_type": "stream",
     "text": [
      "100 Days of Code QUIZ\n",
      "\n",
      "How many can you answer correctly?\n",
      "Correct\n",
      "That's right!\n"
     ]
    }
   ],
   "source": [
    "print(\"100 Days of Code QUIZ\")\n",
    "print()\n",
    "print(\"How many can you answer correctly?\")\n",
    "ans1 = input(\"What language are we writing in?\")\n",
    "if ans1 == \"python\":\n",
    "  print(\"Correct\")\n",
    "else:\n",
    "  print(\"Nope🙈\")\n",
    "ans2 = int(input(\"Which lesson number is this?\"))\n",
    "if(ans2>12):\n",
    "    print(\"We're not quite that far yet\")\n",
    "elif(ans2==12):\n",
    "  print(\"That's right!\")\n",
    "else:\n",
    "    print(\"We've gone well past that!\")"
   ]
  },
  {
   "cell_type": "markdown",
   "metadata": {},
   "source": [
    "#### Day 13"
   ]
  },
  {
   "cell_type": "code",
   "execution_count": 1,
   "metadata": {},
   "outputs": [
    {
     "name": "stdout",
     "output_type": "stream",
     "text": [
      "Exam Grade Calculator\n",
      "\n",
      "\n",
      "\n",
      "You got 80.0 %\n",
      "Your letter grade is an A-.\n"
     ]
    }
   ],
   "source": [
    "print(\"Exam Grade Calculator\")\n",
    "print()\n",
    "name_of_exam = input(\"Name of exam: \")\n",
    "print()\n",
    "total_score = int(input(\"Max. Possible Score:\"))\n",
    "your_score = int(input(\"Your score: \"))\n",
    "print()\n",
    "\n",
    "number_score = float(your_score / total_score)\n",
    "final_number = round(number_score, 2)\n",
    "final_perc = round(float(your_score / total_score)*100, 2)\n",
    "\n",
    "print(\"You got\",final_perc,\"%\")\n",
    "\n",
    "if final_number >= .90:\n",
    "  print(\"Your letter score is an A+\")\n",
    "elif final_number >= .80 and final_number <= .89:\n",
    "  print(\"Your letter grade is an A-.\")\n",
    "elif final_number >= .70 and final_number <= .79:\n",
    "  print(\"Your letter score is a B.\")\n",
    "elif final_number >= .60 and final_number <= .69:\n",
    "  print(\"Your letter grade is a C.\")\n",
    "elif final_number >= .50 and final_number <= .59:\n",
    "  print(\"Your letter grade is a D.\")\n",
    "elif final_number <= .49:\n",
    "  print(\"Your letter grade is a U.\")\n",
    "else: \n",
    "  print(\"Try again!\")"
   ]
  },
  {
   "cell_type": "markdown",
   "metadata": {},
   "source": [
    "#### Day 14"
   ]
  },
  {
   "cell_type": "code",
   "execution_count": 1,
   "metadata": {},
   "outputs": [
    {
     "name": "stdout",
     "output_type": "stream",
     "text": [
      "E P I C    🪨  📄 ✂️    B A T T L E \n",
      "\n",
      "Select your move (R, P or S)\n",
      "\n",
      "\n",
      "\n",
      "Player1's Rock is smothered by Player2's Paper!\n"
     ]
    }
   ],
   "source": [
    "from getpass import getpass as input\n",
    "\n",
    "print(\"E P I C    🪨  📄 ✂️    B A T T L E \")\n",
    "print()\n",
    "print(\"Select your move (R, P or S)\")\n",
    "print()\n",
    "\n",
    "player1Move = input(\"Player 1 > \")\n",
    "print()\n",
    "player2Move = input(\"Player 2 > \")\n",
    "print()\n",
    "\n",
    "if player1Move==\"R\":\n",
    "  if player2Move==\"R\":\n",
    "    print(\"You both picked Rock, draw!\")\n",
    "  elif player2Move==\"S\":\n",
    "    print(\"Player1 smashed Player2's Scissors into dust with their Rock!\")\n",
    "  elif player2Move==\"P\":\n",
    "    print(\"Player1's Rock is smothered by Player2's Paper!\")\n",
    "  else:\n",
    "    print(\"Invalid Move Player 2!\")\n",
    "elif player1Move==\"P\":\n",
    "  if player2Move==\"R\":\n",
    "    print(\"Player2's Rock is smothered by Player1's Paper!\")\n",
    "  elif player2Move==\"S\":\n",
    "    print(\"Player1's Paper is cut into tiny pieces by Player2's Scissors!\")\n",
    "  elif player2Move==\"P\":\n",
    "    print(\"Two bits of paper flap at each other. Dissapointing. Draw.\")\n",
    "  else:\n",
    "    print(\"Invalid Move Player 2!\")\n",
    "elif player1Move==\"S\":\n",
    "  if player2Move==\"R\":\n",
    "    print(\"Player 2's Rock makes metal-dust out of Player1's Scissors\")\n",
    "  elif player2Move==\"S\":\n",
    "    print(\"Ka-Shing! Scissors bounce off each other like a dodgy sword fight! Draw.\")\n",
    "  elif player2Move==\"P\":\n",
    "    print(\"Player1's Scissors make confetti out of Player2's paper!\")\n",
    "  else:\n",
    "    print(\"Invalid Move Player 2!\")\n",
    "else:\n",
    "  print(\"Invalid Move Player 1!\")"
   ]
  },
  {
   "cell_type": "markdown",
   "metadata": {},
   "source": [
    "#### Day 15"
   ]
  },
  {
   "cell_type": "code",
   "execution_count": 3,
   "metadata": {},
   "outputs": [
    {
     "name": "stdout",
     "output_type": "stream",
     "text": [
      "🐮 Moo\n",
      "I don't know that animal sound. Try again.\n"
     ]
    }
   ],
   "source": [
    "\n",
    "exit = \"no\"\n",
    "\n",
    "\n",
    "while exit == \"no\":\n",
    "  animal_sound = input(\"What animal sound do you want to hear?\")\n",
    "  \n",
    "  if animal_sound == \"cow\" or animal_sound == \"Cow\":\n",
    "    print(\"🐮 Moo\")\n",
    "  elif animal_sound == \"pig\" or animal_sound == \"Pig\":\n",
    "    print (\"🐷 Oink\")\n",
    "  elif animal_sound == \"sheep\" or animal_sound == \"Sheep\":\n",
    "    print (\"🐑 Baaa\")\n",
    "  elif animal_sound == \"duck\" or animal_sound == \"Duck\":\n",
    "    print(\"🦆 Quack\")\n",
    "  elif animal_sound == \"dog\" or animal_sound == \"Dog\":\n",
    "    print(\"🐶 Woof\")\n",
    "  elif animal_sound == \"cat\" or animal_sound == \"Cat\":\n",
    "    print(\"🐱 Meow\")\n",
    "  else: \n",
    "    print(\"I don't know that animal sound. Try again.\")\n",
    "\n",
    "\n",
    "  exit = input(\"Do you want to exit?: \")"
   ]
  },
  {
   "cell_type": "markdown",
   "metadata": {},
   "source": [
    "#### Day 16\n",
    "\n",
    "##### The break Command\n",
    "There is a way to stop the infinite while loop with the word break. This exits the loop and stops all code at that point. Even if there is more code written after break that is inside the loop.\n",
    "\n",
    "After break, the computer jumps out of the loop to the next unindented line of code."
   ]
  },
  {
   "cell_type": "code",
   "execution_count": 1,
   "metadata": {},
   "outputs": [
    {
     "name": "stdout",
     "output_type": "stream",
     "text": [
      "Welcome to Name the Song Lyric\n",
      "\n",
      "Figure out the missing word as quickly as you can!\n",
      "\n",
      "You got it!\n",
      "Thanks for playing!\n",
      "You got the correct lyrics in 1 attempt(s).\n"
     ]
    }
   ],
   "source": [
    "print(\"Welcome to Name the Song Lyric\")\n",
    "print()\n",
    "print(\"Figure out the missing word as quickly as you can!\")\n",
    "print()\n",
    "\n",
    "counter = 1\n",
    "while True:\n",
    "  lyrics = input(\"I don't wanna ______ a thing. \")\n",
    "  if lyrics == \"miss\" or lyrics == \"Miss\":\n",
    "    print(\"You got it!\")\n",
    "  else:\n",
    "    print(\"Nope! Try again!\")\n",
    "    counter +=1\n",
    "  if lyrics == \"miss\":\n",
    "    break\n",
    "print(\"Thanks for playing!\")\n",
    "\n",
    "print(\"You got the correct lyrics in\", counter, \"attempt(s).\")"
   ]
  },
  {
   "cell_type": "markdown",
   "metadata": {},
   "source": [
    "#### Day 17\n",
    "\n",
    "##### The Continue Command\n",
    "The continue command stops executing code in the loop and starts at the top of the loop again. Essentially, we want to kick the user back to the original question.\n",
    "\n",
    "##### The exit() command\n",
    "The exit() command completely stops the program and it will not run any more lines of code."
   ]
  },
  {
   "cell_type": "code",
   "execution_count": null,
   "metadata": {},
   "outputs": [],
   "source": [
    "from getpass import getpass as input\n",
    "\n",
    "\n",
    "print(\"E P I C    🪨  📄 ✂️    B A T T L E \")\n",
    "print()\n",
    "print(\"Select your move (R, P or S)\")\n",
    "print()\n",
    "#hint: create these variables outside loop and then add += with correct player to keep score throughout\n",
    "player1_score = 0\n",
    "player2_score = 0\n",
    "#hint: that the while loop needs to go around all code and then highlight the rest of the code and hit tab once. \n",
    "while True: \n",
    "  player1Move = input(\"Player 1 > \")\n",
    "  print()\n",
    "  player2Move = input(\"Player 2 > \")\n",
    "  print()\n",
    "  \n",
    "  if(player1Move==\"R\"):\n",
    "    if(player2Move==\"R\"):\n",
    "      print(\"You both picked Rock, draw!\")\n",
    "    elif(player2Move==\"S\"):\n",
    "      print(\"Player1 smashed Player2's Scissors into dust with their Rock!\")\n",
    "      player1_score += 1\n",
    "    elif(player2Move==\"P\"):\n",
    "      print(\"Player1's Rock is smothered by Player2's Paper!\")\n",
    "      player2_score += 1\n",
    "  elif(player1Move==\"P\"):\n",
    "    if(player2Move==\"R\"):\n",
    "      print(\"Player2's Rock is smothered by Player1's Paper!\")\n",
    "      player1_score += 1\n",
    "    elif(player2Move==\"S\"):\n",
    "      print(\"Player1's Paper is cut into tiny pieces by Player2's Scissors!\")\n",
    "      player2_score += 1\n",
    "    elif(player2Move==\"P\"):\n",
    "      print(\"Two bits of paper flap at each other. Dissapointing. Draw.\")\n",
    "  elif(player1Move==\"S\"):\n",
    "    if(player2Move==\"R\"):\n",
    "      print(\"Player 2's Rock makes metal-dust out of Player1's Scissors\")\n",
    "      player2_score += 1\n",
    "    elif(player2Move==\"S\"):\n",
    "      print(\"Ka-Shing! Scissors bounce off each other like a dodgy sword fight! Draw.\")\n",
    "    elif(player2Move==\"P\"):\n",
    "      print(\"Player1's Scissors make confetti out of Player2's paper!\")\n",
    "      player1_score += 1\n",
    "  \n",
    "# hint: make sure you add player scores at the end of all the options but still inside the while loop.\n",
    "  print(\"Player 1 has\", player1_score, \"wins.\")\n",
    "  print(\"Player 2 has\", player2_score, \"wins.\")\n",
    "\n",
    "  if player1_score==3 or player2_score==3:\n",
    "    print(\"Thanks for playing!\")\n",
    "    exit()\n",
    "  else:\n",
    "    continue"
   ]
  },
  {
   "cell_type": "markdown",
   "metadata": {},
   "source": [
    "#### Day 18\n",
    "We are going to build a \"Guess the Number\" guessing game.\n",
    "\n",
    "You are going to use a while loop and some of the concepts from the past few days.\n",
    "\n",
    "Start by picking a number between 0 and 1,000,000. This will be your first variable.\n",
    "Create a while loop to keep asking the user to guess your number.\n",
    "\n",
    "If they are too low, tell them \"too low.\" If they guess too high tell, them \"too high.\"\n",
    "\n",
    "If the user guesses correctly, tell them they are a winner (maybe add a fun emoji too!)\n",
    "Count the number of attempts it took for the user to guess number. Make sure you only show that after they get the answer correct.\n",
    "\n",
    "Extra challenge : If the user types a negative number, exit program."
   ]
  },
  {
   "cell_type": "code",
   "execution_count": null,
   "metadata": {},
   "outputs": [],
   "source": [
    "print(\"Welcome to Guess the Number.\")\n",
    "print()\n",
    "print(\"Guess a number between 1 and 1,000,000 and I will tell you if you are too low, too high, or get it correct.\")\n",
    "print()\n",
    "print(\"Let's play!\")\n",
    "\n",
    "correct_number = 2300\n",
    "attempt = 1\n",
    "\n",
    "while True:\n",
    "  user_guess = int(input(\"Pick a number between 1 and 1,000,000: \"))\n",
    "  if user_guess < 0:\n",
    "    print(\"Now we'll never know what the answer is …\")\n",
    "    exit()\n",
    "  if user_guess < correct_number:\n",
    "    print(\"That number is too low. Try again!\")\n",
    "    attempt += 1\n",
    "  elif user_guess > correct_number:\n",
    "    print(\"That number is too high. Try again!\")\n",
    "    attempt += 1\n",
    "    continue\n",
    "  elif user_guess == correct_number:\n",
    "    print(\"You are a winner! 🥳🥳\")\n",
    "    break \n",
    "  else:\n",
    "    print(\"That is not a number I recognize.\")\n",
    "print(\"It took you\", attempt, \"attempt(s) to get the correct answer.\")"
   ]
  },
  {
   "cell_type": "markdown",
   "metadata": {},
   "source": [
    "#### Day 19\n",
    "##### For Loop\n",
    "\n",
    "A while loop is perfect to use when we don't know how many times we want the loop to repeat.\n",
    "\n",
    "If we have an idea of how many times we want the loop to repeat, we can use a for loop to loop code in exactly the same way the while loop did.\n",
    "#### Range\n",
    "The range function creates a list of numbers in the range you create. If you only give it one number, it will start at 0 and move to a state where the final number is one less than the number in the brackets."
   ]
  },
  {
   "cell_type": "code",
   "execution_count": 1,
   "metadata": {},
   "outputs": [
    {
     "name": "stdout",
     "output_type": "stream",
     "text": [
      "Year 1 is 1050.0\n",
      "Year 2 is 1102.5\n",
      "Year 3 is 1157.62\n",
      "Year 4 is 1215.51\n",
      "Year 5 is 1276.28\n",
      "Year 6 is 1340.1\n",
      "Year 7 is 1407.1\n",
      "Year 8 is 1477.46\n",
      "Year 9 is 1551.33\n",
      "Year 10 is 1628.89\n"
     ]
    }
   ],
   "source": [
    "loan = 1000\n",
    "apr = 0.05\n",
    "for i in range(10):\n",
    "  loan+=(loan*apr)\n",
    "  print(\"Year\", i+1, \"is\", round(loan,2))"
   ]
  },
  {
   "cell_type": "markdown",
   "metadata": {},
   "source": [
    "#### Day 20\n",
    "##### Range Function (start, stop, increment)\n",
    "Give range one number, and it will count up to that number. However, you can actually give the range function a few options...\n",
    "\n",
    "starting value: what number do you want to start with?\n",
    "ending value: the number after the number you want to end with (example: if you type 10 as the ending value, the computer will count until 9)\n",
    "increment: How much should it increase by every time it loops? (example: Do you want to count by 1s, 5s, 10s?)"
   ]
  },
  {
   "cell_type": "code",
   "execution_count": 2,
   "metadata": {},
   "outputs": [
    {
     "name": "stdout",
     "output_type": "stream",
     "text": [
      "Welcome to my number list generator.\n",
      "\n",
      "You are going to give me a number you want to start with, an ending number, and by how many you want me to add each time.\n",
      "\n",
      "23\n",
      "26\n",
      "29\n",
      "32\n",
      "35\n",
      "38\n",
      "41\n",
      "44\n",
      "47\n"
     ]
    }
   ],
   "source": [
    "print(\"Welcome to my number list generator.\")\n",
    "print()\n",
    "print(\"You are going to give me a number you want to start with, an ending number, and by how many you want me to add each time.\")\n",
    "print()\n",
    "\n",
    "x = int(input(\"What number do you want to start with? \"))\n",
    "y = int(input(\"What number do you want to end with? \"))\n",
    "z = int(input(\"How many should I add each time? \"))\n",
    "\n",
    "for i in range(x, y, z):\n",
    "  print(i)"
   ]
  }
 ],
 "metadata": {
  "kernelspec": {
   "display_name": "venv",
   "language": "python",
   "name": "python3"
  },
  "language_info": {
   "codemirror_mode": {
    "name": "ipython",
    "version": 3
   },
   "file_extension": ".py",
   "mimetype": "text/x-python",
   "name": "python",
   "nbconvert_exporter": "python",
   "pygments_lexer": "ipython3",
   "version": "3.9.0"
  }
 },
 "nbformat": 4,
 "nbformat_minor": 2
}
