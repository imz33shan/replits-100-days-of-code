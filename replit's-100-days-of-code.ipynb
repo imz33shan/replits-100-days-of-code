{
 "cells": [
  {
   "cell_type": "markdown",
   "metadata": {},
   "source": [
    "#### Day 1"
   ]
  },
  {
   "cell_type": "code",
   "execution_count": 3,
   "metadata": {},
   "outputs": [
    {
     "name": "stdout",
     "output_type": "stream",
     "text": [
      "Hello VSCode\n",
      "Hello \n",
      "    Zeeshan\n",
      "        Atta\n"
     ]
    }
   ],
   "source": [
    "print(\"Hello VSCode\")\n",
    "print(\"\"\"Hello \n",
    "    Zeeshan\n",
    "        Atta\"\"\")"
   ]
  },
  {
   "cell_type": "markdown",
   "metadata": {},
   "source": [
    "#### Day 2"
   ]
  },
  {
   "cell_type": "code",
   "execution_count": 5,
   "metadata": {},
   "outputs": [
    {
     "data": {
      "text/plain": [
       "'123'"
      ]
     },
     "execution_count": 5,
     "metadata": {},
     "output_type": "execute_result"
    }
   ],
   "source": [
    "input(\"What's your name?: \")"
   ]
  },
  {
   "cell_type": "code",
   "execution_count": 6,
   "metadata": {},
   "outputs": [
    {
     "name": "stdout",
     "output_type": "stream",
     "text": [
      "Gee, that's REALLY OLD\n",
      "OF COURSE YOU DO!\n"
     ]
    }
   ],
   "source": [
    "myName = input(\"What's you name?: \")\n",
    "myAge = input(\"How old are you? :\")\n",
    "print(\"Gee, that's REALLY OLD\")\n",
    "replit = input(\"Do you like Replit?\")\n",
    "print(\"OF COURSE YOU DO!\")"
   ]
  },
  {
   "cell_type": "code",
   "execution_count": 7,
   "metadata": {},
   "outputs": [
    {
     "name": "stdout",
     "output_type": "stream",
     "text": [
      "\n",
      "So, you are\n",
      "Zeeshan\n",
      "and are the ripe old age of\n",
      "27\n",
      "and clearly think that Replit is\n",
      "Yes\n"
     ]
    }
   ],
   "source": [
    "print()\n",
    "print(\"So, you are\")\n",
    "print(myName)\n",
    "print(\"and are the ripe old age of\")\n",
    "print(myAge)\n",
    "print(\"and clearly think that Replit is\")\n",
    "print(replit)"
   ]
  },
  {
   "cell_type": "code",
   "execution_count": 9,
   "metadata": {},
   "outputs": [
    {
     "name": "stdout",
     "output_type": "stream",
     "text": [
      "Hmm, it sounds like you really should just order\n",
      "Biryani\n",
      "as soon as possible!\n"
     ]
    }
   ],
   "source": [
    "myLunch = input(\"What are you having for lunch? \")\n",
    "print(\"Hmm, it sounds like you really should just order\")\n",
    "print(myLunch)\n",
    "print(\"as soon as possible!\")"
   ]
  },
  {
   "cell_type": "code",
   "execution_count": 11,
   "metadata": {},
   "outputs": [
    {
     "name": "stdout",
     "output_type": "stream",
     "text": [
      "Definitely not a Phishing Scam\n",
      "\n",
      "Thanks for logging in\n",
      "Zeeshan\n",
      "Thanks, I definitely wont put\n",
      "1234567890\n",
      "into Amazon and order anything weird\n",
      "\n",
      "Promise\n",
      "\n",
      "That's cool, I just wanted to know that\n",
      "Fatima\n",
      "was your Mum's maiden name. Not because the bank requested it or anything, honest.\n"
     ]
    }
   ],
   "source": [
    "print(\"Definitely not a Phishing Scam\")\n",
    "print()\n",
    "myName = input(\"Your Name\")\n",
    "print(\"Thanks for logging in\")\n",
    "print(myName)\n",
    "cardNumber = input(\"What is your credit card number?\")\n",
    "print(\"Thanks, I definitely wont put\")\n",
    "print(cardNumber)\n",
    "print(\"into Amazon and order anything weird\")\n",
    "print()\n",
    "print(\"Promise\")\n",
    "maidenName = input(\"What is your Mother's maiden name? \")\n",
    "print()\n",
    "print(\"That's cool, I just wanted to know that\")\n",
    "print(maidenName)\n",
    "print(\"was your Mum's maiden name. Not because the bank requested it or anything, honest.\")"
   ]
  },
  {
   "cell_type": "markdown",
   "metadata": {},
   "source": [
    "#### Day 3"
   ]
  },
  {
   "cell_type": "code",
   "execution_count": 2,
   "metadata": {},
   "outputs": [
    {
     "name": "stdout",
     "output_type": "stream",
     "text": [
      "Zeeshan is going to be chowing down on Biryani very soon!\n"
     ]
    }
   ],
   "source": [
    "myName = input(\"What's your name? \")\n",
    "myLunch = input(\"What are you having for lunch? \")\n",
    "print(myName, \"is going to be chowing down on\", myLunch, \"very soon!\")"
   ]
  },
  {
   "cell_type": "code",
   "execution_count": 3,
   "metadata": {},
   "outputs": [
    {
     "name": "stdout",
     "output_type": "stream",
     "text": [
      "No I don't think that 8 is a Roses of Aw . That's just odd.\n"
     ]
    }
   ],
   "source": [
    "number = input(\"Give me a number: \")\n",
    "group = input(\"Give me a collective noun for a group of things: \")\n",
    "thing = input(\"Give me the name of a weird or wacky thing: \")\n",
    "print(\"No I don't think that\", number, \"is a\", group, \"of\", thing,\". That's just odd.\")"
   ]
  },
  {
   "cell_type": "code",
   "execution_count": 5,
   "metadata": {},
   "outputs": [
    {
     "name": "stdout",
     "output_type": "stream",
     "text": [
      "Zeeshan thinks it is 2024\n"
     ]
    }
   ],
   "source": [
    "yourName = input(\"Name: \")\n",
    "whatYear = input(\"What year is it?: \")\n",
    "print(yourName, \"thinks it is\", whatYear)"
   ]
  },
  {
   "cell_type": "code",
   "execution_count": 7,
   "metadata": {},
   "outputs": [
    {
     "name": "stdout",
     "output_type": "stream",
     "text": [
      "=== Your Song Generator ===\n",
      "You'll be asked a bunch of questions\n",
      "then we'll make you up an amazing\n",
      "song, totally copyright free 😭\n",
      "\n"
     ]
    },
    {
     "name": "stdout",
     "output_type": "stream",
     "text": [
      "\n",
      "There was a person called Zeeshan\n",
      "Who did something cool like Biryani at the wonderful Lahore where you'll find me Ok\n"
     ]
    }
   ],
   "source": [
    "print(\"=== Your Song Generator ===\")\n",
    "print(\"\"\"You'll be asked a bunch of questions\n",
    "then we'll make you up an amazing\n",
    "song, totally copyright free 😭\"\"\")\n",
    "print()\n",
    "person = input(\"Name a person famous for something good: \")\n",
    "thing = input(\"Name a thing they did: \")\n",
    "place = input(\"Name a place you like: \")\n",
    "rhyme = input(\"Give me a verb that rhymes with your person's name: \")\n",
    "print()\n",
    "print(\"There was a person called\", person)\n",
    "print(\"Who did something cool like\", thing, \"at the wonderful\", place, \"where you'll find me\", rhyme)"
   ]
  },
  {
   "cell_type": "markdown",
   "metadata": {},
   "source": [
    "#### Day 4"
   ]
  },
  {
   "cell_type": "markdown",
   "metadata": {},
   "source": [
    "Color    Value\n",
    "Default\t 0\n",
    "Black\t 30\n",
    "Red\t     31\n",
    "Green\t 32\n",
    "Yellow\t 33\n",
    "Blue\t 34\n",
    "Purple\t 35\n",
    "Cyan\t 36\n",
    "White\t 37"
   ]
  },
  {
   "cell_type": "code",
   "execution_count": 1,
   "metadata": {},
   "outputs": [
    {
     "name": "stdout",
     "output_type": "stream",
     "text": [
      "Uh, oh, you've been given a \u001b[31m warning \u001b[0m for being a bad, bad person.\n"
     ]
    }
   ],
   "source": [
    "print(\"Uh, oh, you've been given a\", \"\\033[31m\", \"warning\", \"\\033[0m\", \"for being a bad, bad person.\")"
   ]
  },
  {
   "cell_type": "code",
   "execution_count": 3,
   "metadata": {},
   "outputs": [
    {
     "name": "stdout",
     "output_type": "stream",
     "text": [
      "Welcome to your Adventure Story Simulator.\n",
      "\n",
      "I am going to ask you a bunch of questions and then create an epic story with you as the star.\n",
      "\n",
      "\n",
      "\n",
      "\n",
      "\n",
      "\n",
      "Hello Zeeshan Your ability to Eating will make sure you never have to look at Aalu again.Go eat Biryani as you walk down the streets of Home and use Eating for good and not evil!\n"
     ]
    }
   ],
   "source": [
    "print(\"Welcome to your Adventure Story Simulator.\")\n",
    "print ()\n",
    "print(\"I am going to ask you a bunch of questions and then create an epic story with you as the star.\")\n",
    "\n",
    "print()\n",
    "name = input(\"What is your name? \")\n",
    "print()\n",
    "enemyName = input(\"What is your enemy's name? \")\n",
    "print()\n",
    "superPower = input(\"What is your super power? \")\n",
    "print()\n",
    "live = input(\"Where do you live?\")\n",
    "print()\n",
    "food = input(\"What is your favorite food?\")\n",
    "\n",
    "print()\n",
    "print(\"Hello\", name, \"Your ability to\", superPower, \"will make sure you never have to look at\", enemyName, \"again.\" \"Go eat\", food, \"as you walk down the streets of\", live, \"and use\", superPower, \"for good and not evil!\")"
   ]
  }
 ],
 "metadata": {
  "kernelspec": {
   "display_name": "venv",
   "language": "python",
   "name": "python3"
  },
  "language_info": {
   "codemirror_mode": {
    "name": "ipython",
    "version": 3
   },
   "file_extension": ".py",
   "mimetype": "text/x-python",
   "name": "python",
   "nbconvert_exporter": "python",
   "pygments_lexer": "ipython3",
   "version": "3.9.0"
  }
 },
 "nbformat": 4,
 "nbformat_minor": 2
}
