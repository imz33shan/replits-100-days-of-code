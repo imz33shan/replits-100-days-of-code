{
 "cells": [
  {
   "cell_type": "markdown",
   "metadata": {},
   "source": [
    "#### Day 1"
   ]
  },
  {
   "cell_type": "code",
   "execution_count": 3,
   "metadata": {},
   "outputs": [
    {
     "name": "stdout",
     "output_type": "stream",
     "text": [
      "Hello VSCode\n",
      "Hello \n",
      "    Zeeshan\n",
      "        Atta\n"
     ]
    }
   ],
   "source": [
    "print(\"Hello VSCode\")\n",
    "print(\"\"\"Hello \n",
    "    Zeeshan\n",
    "        Atta\"\"\")"
   ]
  },
  {
   "cell_type": "code",
   "execution_count": 5,
   "metadata": {},
   "outputs": [
    {
     "data": {
      "text/plain": [
       "'123'"
      ]
     },
     "execution_count": 5,
     "metadata": {},
     "output_type": "execute_result"
    }
   ],
   "source": [
    "input(\"What's your name?: \")"
   ]
  },
  {
   "cell_type": "code",
   "execution_count": 6,
   "metadata": {},
   "outputs": [
    {
     "name": "stdout",
     "output_type": "stream",
     "text": [
      "Gee, that's REALLY OLD\n",
      "OF COURSE YOU DO!\n"
     ]
    }
   ],
   "source": [
    "myName = input(\"What's you name?: \")\n",
    "myAge = input(\"How old are you? :\")\n",
    "print(\"Gee, that's REALLY OLD\")\n",
    "replit = input(\"Do you like Replit?\")\n",
    "print(\"OF COURSE YOU DO!\")"
   ]
  },
  {
   "cell_type": "code",
   "execution_count": 7,
   "metadata": {},
   "outputs": [
    {
     "name": "stdout",
     "output_type": "stream",
     "text": [
      "\n",
      "So, you are\n",
      "Zeeshan\n",
      "and are the ripe old age of\n",
      "27\n",
      "and clearly think that Replit is\n",
      "Yes\n"
     ]
    }
   ],
   "source": [
    "print()\n",
    "print(\"So, you are\")\n",
    "print(myName)\n",
    "print(\"and are the ripe old age of\")\n",
    "print(myAge)\n",
    "print(\"and clearly think that Replit is\")\n",
    "print(replit)"
   ]
  },
  {
   "cell_type": "code",
   "execution_count": 9,
   "metadata": {},
   "outputs": [
    {
     "name": "stdout",
     "output_type": "stream",
     "text": [
      "Hmm, it sounds like you really should just order\n",
      "Biryani\n",
      "as soon as possible!\n"
     ]
    }
   ],
   "source": [
    "myLunch = input(\"What are you having for lunch? \")\n",
    "print(\"Hmm, it sounds like you really should just order\")\n",
    "print(myLunch)\n",
    "print(\"as soon as possible!\")"
   ]
  },
  {
   "cell_type": "code",
   "execution_count": 11,
   "metadata": {},
   "outputs": [
    {
     "name": "stdout",
     "output_type": "stream",
     "text": [
      "Definitely not a Phishing Scam\n",
      "\n",
      "Thanks for logging in\n",
      "Zeeshan\n",
      "Thanks, I definitely wont put\n",
      "1234567890\n",
      "into Amazon and order anything weird\n",
      "\n",
      "Promise\n",
      "\n",
      "That's cool, I just wanted to know that\n",
      "Fatima\n",
      "was your Mum's maiden name. Not because the bank requested it or anything, honest.\n"
     ]
    }
   ],
   "source": [
    "print(\"Definitely not a Phishing Scam\")\n",
    "print()\n",
    "myName = input(\"Your Name\")\n",
    "print(\"Thanks for logging in\")\n",
    "print(myName)\n",
    "cardNumber = input(\"What is your credit card number?\")\n",
    "print(\"Thanks, I definitely wont put\")\n",
    "print(cardNumber)\n",
    "print(\"into Amazon and order anything weird\")\n",
    "print()\n",
    "print(\"Promise\")\n",
    "maidenName = input(\"What is your Mother's maiden name? \")\n",
    "print()\n",
    "print(\"That's cool, I just wanted to know that\")\n",
    "print(maidenName)\n",
    "print(\"was your Mum's maiden name. Not because the bank requested it or anything, honest.\")"
   ]
  }
 ],
 "metadata": {
  "kernelspec": {
   "display_name": "venv",
   "language": "python",
   "name": "python3"
  },
  "language_info": {
   "codemirror_mode": {
    "name": "ipython",
    "version": 3
   },
   "file_extension": ".py",
   "mimetype": "text/x-python",
   "name": "python",
   "nbconvert_exporter": "python",
   "pygments_lexer": "ipython3",
   "version": "3.9.0"
  }
 },
 "nbformat": 4,
 "nbformat_minor": 2
}
