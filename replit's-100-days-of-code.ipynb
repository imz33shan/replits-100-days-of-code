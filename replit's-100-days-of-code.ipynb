{
 "cells": [
  {
   "cell_type": "markdown",
   "metadata": {},
   "source": [
    "#### Day 1"
   ]
  },
  {
   "cell_type": "code",
   "execution_count": 3,
   "metadata": {},
   "outputs": [
    {
     "name": "stdout",
     "output_type": "stream",
     "text": [
      "Hello VSCode\n",
      "Hello \n",
      "    Zeeshan\n",
      "        Atta\n"
     ]
    }
   ],
   "source": [
    "print(\"Hello VSCode\")\n",
    "print(\"\"\"Hello \n",
    "    Zeeshan\n",
    "        Atta\"\"\")"
   ]
  },
  {
   "cell_type": "markdown",
   "metadata": {},
   "source": [
    "#### Day 2"
   ]
  },
  {
   "cell_type": "code",
   "execution_count": 5,
   "metadata": {},
   "outputs": [
    {
     "data": {
      "text/plain": [
       "'123'"
      ]
     },
     "execution_count": 5,
     "metadata": {},
     "output_type": "execute_result"
    }
   ],
   "source": [
    "input(\"What's your name?: \")"
   ]
  },
  {
   "cell_type": "code",
   "execution_count": 6,
   "metadata": {},
   "outputs": [
    {
     "name": "stdout",
     "output_type": "stream",
     "text": [
      "Gee, that's REALLY OLD\n",
      "OF COURSE YOU DO!\n"
     ]
    }
   ],
   "source": [
    "myName = input(\"What's you name?: \")\n",
    "myAge = input(\"How old are you? :\")\n",
    "print(\"Gee, that's REALLY OLD\")\n",
    "replit = input(\"Do you like Replit?\")\n",
    "print(\"OF COURSE YOU DO!\")"
   ]
  },
  {
   "cell_type": "code",
   "execution_count": 7,
   "metadata": {},
   "outputs": [
    {
     "name": "stdout",
     "output_type": "stream",
     "text": [
      "\n",
      "So, you are\n",
      "Zeeshan\n",
      "and are the ripe old age of\n",
      "27\n",
      "and clearly think that Replit is\n",
      "Yes\n"
     ]
    }
   ],
   "source": [
    "print()\n",
    "print(\"So, you are\")\n",
    "print(myName)\n",
    "print(\"and are the ripe old age of\")\n",
    "print(myAge)\n",
    "print(\"and clearly think that Replit is\")\n",
    "print(replit)"
   ]
  },
  {
   "cell_type": "code",
   "execution_count": 9,
   "metadata": {},
   "outputs": [
    {
     "name": "stdout",
     "output_type": "stream",
     "text": [
      "Hmm, it sounds like you really should just order\n",
      "Biryani\n",
      "as soon as possible!\n"
     ]
    }
   ],
   "source": [
    "myLunch = input(\"What are you having for lunch? \")\n",
    "print(\"Hmm, it sounds like you really should just order\")\n",
    "print(myLunch)\n",
    "print(\"as soon as possible!\")"
   ]
  },
  {
   "cell_type": "code",
   "execution_count": 11,
   "metadata": {},
   "outputs": [
    {
     "name": "stdout",
     "output_type": "stream",
     "text": [
      "Definitely not a Phishing Scam\n",
      "\n",
      "Thanks for logging in\n",
      "Zeeshan\n",
      "Thanks, I definitely wont put\n",
      "1234567890\n",
      "into Amazon and order anything weird\n",
      "\n",
      "Promise\n",
      "\n",
      "That's cool, I just wanted to know that\n",
      "Fatima\n",
      "was your Mum's maiden name. Not because the bank requested it or anything, honest.\n"
     ]
    }
   ],
   "source": [
    "print(\"Definitely not a Phishing Scam\")\n",
    "print()\n",
    "myName = input(\"Your Name\")\n",
    "print(\"Thanks for logging in\")\n",
    "print(myName)\n",
    "cardNumber = input(\"What is your credit card number?\")\n",
    "print(\"Thanks, I definitely wont put\")\n",
    "print(cardNumber)\n",
    "print(\"into Amazon and order anything weird\")\n",
    "print()\n",
    "print(\"Promise\")\n",
    "maidenName = input(\"What is your Mother's maiden name? \")\n",
    "print()\n",
    "print(\"That's cool, I just wanted to know that\")\n",
    "print(maidenName)\n",
    "print(\"was your Mum's maiden name. Not because the bank requested it or anything, honest.\")"
   ]
  },
  {
   "cell_type": "markdown",
   "metadata": {},
   "source": [
    "#### Day 3"
   ]
  },
  {
   "cell_type": "code",
   "execution_count": 2,
   "metadata": {},
   "outputs": [
    {
     "name": "stdout",
     "output_type": "stream",
     "text": [
      "Zeeshan is going to be chowing down on Biryani very soon!\n"
     ]
    }
   ],
   "source": [
    "myName = input(\"What's your name? \")\n",
    "myLunch = input(\"What are you having for lunch? \")\n",
    "print(myName, \"is going to be chowing down on\", myLunch, \"very soon!\")"
   ]
  },
  {
   "cell_type": "code",
   "execution_count": 3,
   "metadata": {},
   "outputs": [
    {
     "name": "stdout",
     "output_type": "stream",
     "text": [
      "No I don't think that 8 is a Roses of Aw . That's just odd.\n"
     ]
    }
   ],
   "source": [
    "number = input(\"Give me a number: \")\n",
    "group = input(\"Give me a collective noun for a group of things: \")\n",
    "thing = input(\"Give me the name of a weird or wacky thing: \")\n",
    "print(\"No I don't think that\", number, \"is a\", group, \"of\", thing,\". That's just odd.\")"
   ]
  },
  {
   "cell_type": "code",
   "execution_count": 5,
   "metadata": {},
   "outputs": [
    {
     "name": "stdout",
     "output_type": "stream",
     "text": [
      "Zeeshan thinks it is 2024\n"
     ]
    }
   ],
   "source": [
    "yourName = input(\"Name: \")\n",
    "whatYear = input(\"What year is it?: \")\n",
    "print(yourName, \"thinks it is\", whatYear)"
   ]
  },
  {
   "cell_type": "code",
   "execution_count": 7,
   "metadata": {},
   "outputs": [
    {
     "name": "stdout",
     "output_type": "stream",
     "text": [
      "=== Your Song Generator ===\n",
      "You'll be asked a bunch of questions\n",
      "then we'll make you up an amazing\n",
      "song, totally copyright free 😭\n",
      "\n"
     ]
    },
    {
     "name": "stdout",
     "output_type": "stream",
     "text": [
      "\n",
      "There was a person called Zeeshan\n",
      "Who did something cool like Biryani at the wonderful Lahore where you'll find me Ok\n"
     ]
    }
   ],
   "source": [
    "print(\"=== Your Song Generator ===\")\n",
    "print(\"\"\"You'll be asked a bunch of questions\n",
    "then we'll make you up an amazing\n",
    "song, totally copyright free 😭\"\"\")\n",
    "print()\n",
    "person = input(\"Name a person famous for something good: \")\n",
    "thing = input(\"Name a thing they did: \")\n",
    "place = input(\"Name a place you like: \")\n",
    "rhyme = input(\"Give me a verb that rhymes with your person's name: \")\n",
    "print()\n",
    "print(\"There was a person called\", person)\n",
    "print(\"Who did something cool like\", thing, \"at the wonderful\", place, \"where you'll find me\", rhyme)"
   ]
  },
  {
   "cell_type": "markdown",
   "metadata": {},
   "source": [
    "#### Day 4"
   ]
  },
  {
   "cell_type": "markdown",
   "metadata": {},
   "source": [
    "Color    Value\n",
    "Default\t 0\n",
    "Black\t 30\n",
    "Red\t     31\n",
    "Green\t 32\n",
    "Yellow\t 33\n",
    "Blue\t 34\n",
    "Purple\t 35\n",
    "Cyan\t 36\n",
    "White\t 37"
   ]
  },
  {
   "cell_type": "code",
   "execution_count": 1,
   "metadata": {},
   "outputs": [
    {
     "name": "stdout",
     "output_type": "stream",
     "text": [
      "Uh, oh, you've been given a \u001b[31m warning \u001b[0m for being a bad, bad person.\n"
     ]
    }
   ],
   "source": [
    "print(\"Uh, oh, you've been given a\", \"\\033[31m\", \"warning\", \"\\033[0m\", \"for being a bad, bad person.\")"
   ]
  },
  {
   "cell_type": "code",
   "execution_count": 3,
   "metadata": {},
   "outputs": [
    {
     "name": "stdout",
     "output_type": "stream",
     "text": [
      "Welcome to your Adventure Story Simulator.\n",
      "\n",
      "I am going to ask you a bunch of questions and then create an epic story with you as the star.\n",
      "\n",
      "\n",
      "\n",
      "\n",
      "\n",
      "\n",
      "Hello Zeeshan Your ability to Eating will make sure you never have to look at Aalu again.Go eat Biryani as you walk down the streets of Home and use Eating for good and not evil!\n"
     ]
    }
   ],
   "source": [
    "print(\"Welcome to your Adventure Story Simulator.\")\n",
    "print ()\n",
    "print(\"I am going to ask you a bunch of questions and then create an epic story with you as the star.\")\n",
    "\n",
    "print()\n",
    "name = input(\"What is your name? \")\n",
    "print()\n",
    "enemyName = input(\"What is your enemy's name? \")\n",
    "print()\n",
    "superPower = input(\"What is your super power? \")\n",
    "print()\n",
    "live = input(\"Where do you live?\")\n",
    "print()\n",
    "food = input(\"What is your favorite food?\")\n",
    "\n",
    "print()\n",
    "print(\"Hello\", name, \"Your ability to\", superPower, \"will make sure you never have to look at\", enemyName, \"again.\" \"Go eat\", food, \"as you walk down the streets of\", live, \"and use\", superPower, \"for good and not evil!\")"
   ]
  },
  {
   "cell_type": "markdown",
   "metadata": {},
   "source": [
    "#### Day 5"
   ]
  },
  {
   "cell_type": "code",
   "execution_count": 1,
   "metadata": {},
   "outputs": [
    {
     "name": "stdout",
     "output_type": "stream",
     "text": [
      "Welcome Dude!\n",
      "You're just the baldest dude I've ever seen\n"
     ]
    }
   ],
   "source": [
    "myName = input(\"What's your name?: \")\n",
    "if myName == \"David\":\n",
    "    print(\"Welcome Dude!\")\n",
    "    print(\"You're just the baldest dude I've ever seen\")\n",
    "else:\n",
    "    print(\"Who on earth are you?!\")"
   ]
  },
  {
   "cell_type": "code",
   "execution_count": 4,
   "metadata": {},
   "outputs": [
    {
     "name": "stdout",
     "output_type": "stream",
     "text": [
      "Which character are you from 'Avengers?'\n",
      "\n",
      "Answer these questions and let's find out.\n",
      "\n",
      "Please use Y or N for yes and no.\n",
      "I guess you are not like anyone from 'Avengers.'\n"
     ]
    }
   ],
   "source": [
    "print(\"Which character are you from 'Avengers?'\")\n",
    "print()\n",
    "print(\"Answer these questions and let's find out.\")\n",
    "print()\n",
    "print(\"Please use Y or N for yes and no.\")\n",
    "\n",
    "likeGreen = input(\"Do you like the color green?: \")\n",
    "if likeGreen == \"Y\":\n",
    "  print(\"You must be the Hulk!\")\n",
    "\n",
    "IronIsCool = input(\"Do you think building robots is cool?: \")  \n",
    "if IronIsCool == \"Y\":\n",
    "  print(\"You must be Iron Man. Cool suit!\")\n",
    "\n",
    "TimeTravel = input(\"Do you like traveling through time?: \")  \n",
    "if TimeTravel == \"Y\":\n",
    "  print(\"You must be Captain America!\")\n",
    "\n",
    "Strong = input(\"Are you super strong?: \")\n",
    "if Strong == \"Y\":\n",
    "  print(\"You have got to be Thor!\")\n",
    "else:\n",
    "  print(\"I guess you are not like anyone from 'Avengers.'\")"
   ]
  },
  {
   "cell_type": "markdown",
   "metadata": {},
   "source": [
    "#### Day 6"
   ]
  },
  {
   "cell_type": "code",
   "execution_count": 7,
   "metadata": {},
   "outputs": [
    {
     "name": "stdout",
     "output_type": "stream",
     "text": [
      "SECURE LOGIN\n",
      "Welcome Mark!\n"
     ]
    }
   ],
   "source": [
    "print(\"SECURE LOGIN\")\n",
    "username = input(\"Username > \")\n",
    "password = input(\"Password> \")\n",
    "\n",
    "if username == \"mark\" and password == \"password\":\n",
    "    print(\"Welcome Mark!\")\n",
    "elif username == \"suzanne\" and password == \"Su74nne\":\n",
    "    print(\"Hey there Suzanne!\")\n",
    "else:\n",
    "    print(\"Go away!\")"
   ]
  },
  {
   "cell_type": "code",
   "execution_count": 8,
   "metadata": {},
   "outputs": [
    {
     "name": "stdout",
     "output_type": "stream",
     "text": [
      "Secure Login\n",
      "You do not have access. Go away!\n"
     ]
    }
   ],
   "source": [
    "\n",
    "print(\"Secure Login\")\n",
    "username = input(\"What is your username?\")\n",
    "password = input(\"What is your password?\")\n",
    "\n",
    "if username == \"David\" and password == \"PyTh0nR*cks\":\n",
    "  print(\"Welcome, David! You are looking nice today!\")\n",
    "elif username == \"Becky\" and password == \"Repl!t4evEr\":\n",
    "  print(\"Hi Becky! Love your hair today!\")\n",
    "elif username == \"Bill\" and password == \"SmashTHEb*gs!\":\n",
    "  print(\"Yo! Bill! What up?!\")\n",
    "else:\n",
    "  print(\"You do not have access. Go away!\")"
   ]
  },
  {
   "cell_type": "markdown",
   "metadata": {},
   "source": [
    "#### Day 7"
   ]
  },
  {
   "cell_type": "code",
   "execution_count": 1,
   "metadata": {},
   "outputs": [
    {
     "name": "stdout",
     "output_type": "stream",
     "text": [
      "Ugh, why?\n",
      "Right answer\n"
     ]
    }
   ],
   "source": [
    "tvShow = input(\"What is your favorite tv show? \")\n",
    "if tvShow == \"peppa pig\":\n",
    "  print(\"Ugh, why?\")\n",
    "  faveCharacter = input(\"Who is your favorite character? \")\n",
    "  if faveCharacter == \"daddy pig\":\n",
    "    print(\"Right answer\")\n",
    "  else:\n",
    "    print(\"Nah, Daddy Pig's the greatest\")\n",
    "elif tvShow == \"paw patrol\":\n",
    "  print(\"Aww, sad times\")\n",
    "else:\n",
    "  print(\"Yeah, that's cool and all…\")"
   ]
  },
  {
   "cell_type": "code",
   "execution_count": 3,
   "metadata": {},
   "outputs": [
    {
     "name": "stdout",
     "output_type": "stream",
     "text": [
      "Are you a superfan of 'The Big Bang Theory' or a fake fan?\n",
      "\n",
      "Answer these questions to find out.\n",
      "Wrong!\n",
      "Try again!\n"
     ]
    }
   ],
   "source": [
    "print (\"Are you a superfan of 'The Big Bang Theory' or a fake fan?\")\n",
    "print()\n",
    "print(\"Answer these questions to find out.\")\n",
    "\n",
    "Glasses = input(\"Does someone wear glasses?\")\n",
    "if Glasses == \"yes\":\n",
    "  print(\"Correct!\")\n",
    "else:\n",
    "  print(\"Wrong!\")\n",
    "  WhoGlasses = input(\"And who wears glasses?\")\n",
    "  if WhoGlasses == \"Leonard\":\n",
    "    print(\"You got it\")\n",
    "  else:\n",
    "    print(\"Try again!\")"
   ]
  },
  {
   "cell_type": "markdown",
   "metadata": {},
   "source": [
    "#### Day 8"
   ]
  },
  {
   "cell_type": "code",
   "execution_count": null,
   "metadata": {},
   "outputs": [],
   "source": [
    "print(\"Hello. Welcome to your daily affirmation generator.\")\n",
    "name = input(\"What is your name?\")\n",
    "\n",
    "\n",
    "\n",
    "if name ==\"Mark\" or name == \"mark\":\n",
    " DOW = input(\"What is the day of the week?\")\n",
    " if DOW == \"monday\" or DOW == \"Monday\":\n",
    "   print(\"It is going to be a great Monday\", name)\n",
    " if DOW == \"tuesday\" or DOW == \"Tuesday\":\n",
    "   print(\"What a wonderful Tuesday it is\", name)\n",
    " if DOW == \"wednesday\" or DOW == \"Wednesday\":\n",
    "   print(\"Happy Hump Day\", name)\n",
    " if DOW == \"thursday\" or DOW == \"Thursday\":\n",
    "   print(name,\"your week is almost over!\")\n",
    " if DOW == \"friday\" or DOW == \"Friday\":\n",
    "   print(name, \"It's FRIDAY!\")\n",
    "\n",
    "elif name == \"David\" or name== \"david\":\n",
    " DOW = input(\"What is the day of the week?\")\n",
    " if DOW == \"monday\" or DOW == \"Monday\":\n",
    "   print(\"It is going to be a great Monday\", name)\n",
    " if DOW == \"tuesday\" or DOW == \"Tuesday\":\n",
    "   print(\"You look great in that color\", name)\n",
    " if DOW == \"wednesday\" or DOW == \"Wednesday\":\n",
    "   print(\"You look chipper today\", name)\n",
    " if DOW == \"thursday\" or DOW == \"Thursday\":\n",
    "   print(name,\"you are doing a great job!\")\n",
    " if DOW == \"friday\" or DOW == \"Friday\":\n",
    "   print(name, \"it's FRIDAY!\")\n",
    "else:\n",
    " print(\"I do not know your name, but I hope you are having a great day!\")"
   ]
  },
  {
   "cell_type": "markdown",
   "metadata": {},
   "source": [
    "#### Day 9"
   ]
  },
  {
   "cell_type": "code",
   "execution_count": 1,
   "metadata": {},
   "outputs": [
    {
     "name": "stdout",
     "output_type": "stream",
     "text": [
      "Hey, Gen Z! TikTok much?\n"
     ]
    }
   ],
   "source": [
    "birthYear = int(input(\"What year were you born?\"))\n",
    "if birthYear <= 1946:\n",
    "  print(\"You are a Traditionalist.\")\n",
    "elif birthYear >= 1947 and birthYear <= 1964:\n",
    "  print(\"Hey, Baby Boomer! How you doing?\")\n",
    "elif birthYear >= 1965 and birthYear <= 1981:\n",
    "  print(\"Gen X! What's up?\")\n",
    "elif birthYear >= 1982 and birthYear <= 1995:\n",
    "  print(\"Millenials! The age of tech!\")\n",
    "elif birthYear >= 1996:\n",
    "  print(\"Hey, Gen Z! TikTok much?\")\n",
    "else: \n",
    "  print(\"Try again!\")"
   ]
  }
 ],
 "metadata": {
  "kernelspec": {
   "display_name": "venv",
   "language": "python",
   "name": "python3"
  },
  "language_info": {
   "codemirror_mode": {
    "name": "ipython",
    "version": 3
   },
   "file_extension": ".py",
   "mimetype": "text/x-python",
   "name": "python",
   "nbconvert_exporter": "python",
   "pygments_lexer": "ipython3",
   "version": "3.9.0"
  }
 },
 "nbformat": 4,
 "nbformat_minor": 2
}
